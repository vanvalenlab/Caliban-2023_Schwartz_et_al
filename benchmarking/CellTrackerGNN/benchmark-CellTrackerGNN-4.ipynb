{
 "cells": [
  {
   "cell_type": "markdown",
   "id": "2a0f7c51-c7c9-4c16-8ee1-2d475ce70684",
   "metadata": {},
   "source": [
    "<div class=\"alert alert-block alert-info\"> <b>NOTE</b> Please select the kernel <code>Python [conda env: deepcell]</code> for this notebook. </div>"
   ]
  },
  {
   "cell_type": "markdown",
   "id": "ad624b81-3551-40fb-9c38-0f53c2429680",
   "metadata": {},
   "source": [
    "# 4. Evaluate"
   ]
  },
  {
   "cell_type": "code",
   "execution_count": 10,
   "id": "c87c3fe4-e476-462e-a6a1-cc360dc8342e",
   "metadata": {},
   "outputs": [],
   "source": [
    "import glob\n",
    "import os\n",
    "import re\n",
    "import subprocess\n",
    "\n",
    "import numpy as np\n",
    "import pandas as pd\n",
    "\n",
    "from deepcell_tracking.metrics import TrackingMetrics"
   ]
  },
  {
   "cell_type": "markdown",
   "id": "bcec6779-4012-44c7-bc2a-c9d43a9e2aec",
   "metadata": {},
   "source": [
    "Some conversion from the gnn output to isbi compatible format may be necessary"
   ]
  },
  {
   "cell_type": "code",
   "execution_count": 11,
   "id": "664c9a2d-c5d0-4f77-b0a7-7ddc10b2f69a",
   "metadata": {},
   "outputs": [],
   "source": [
    "data_dir = '/publication-tracking/benchmarking/DeepCell/data'\n",
    "gt_seg_dir = os.path.join(data_dir, 'SEG_GT')\n",
    "pred_seg_dir = os.path.join(data_dir, 'SEG_PRED')\n",
    "\n",
    "pattern = re.compile('\\d{3}_GT')\n",
    "data_ids = [f.split('_')[0] for f in os.listdir(gt_seg_dir) if pattern.fullmatch(f)]\n",
    "\n",
    "node_match_threshold = 0.6\n",
    "\n",
    "ctc_software = '/publication-tracking/benchmarking/CTC_Evaluation_Software'\n",
    "operating_system = 'Linux' # or 'Mac' or 'Win'\n",
    "num_digits = '3'"
   ]
  },
  {
   "cell_type": "code",
   "execution_count": 12,
   "id": "e66499a1-73c7-4ffd-a569-28598a41ca7b",
   "metadata": {},
   "outputs": [
    {
     "name": "stdout",
     "output_type": "stream",
     "text": [
      "missed node 1_29 division completely\n",
      "missed node 29_29 division completely\n",
      "missed node 57_10 division completely\n",
      "missed node 60_0 division completely\n",
      "18_16 out degree = 2, daughters mismatch, gt and res degree equal.\n",
      "missed node 5_6 division completely\n",
      "missed node 121_42 division completely\n",
      "missed node 144_28 division completely\n",
      "missed node 26_25 division completely\n",
      "missed node 1_29 division completely\n",
      "missed node 3_23 division completely\n",
      "29_29 out degree = 2, daughters mismatch, gt and res degree equal.\n",
      "corrected division 3_23 as a frameshift division not an error\n",
      "missed node 10_19 division completely\n",
      "15_17 out degree = 1, daughters mismatch.\n",
      "missed node 19_20 division completely\n",
      "29_17 out degree = 1, daughters mismatch.\n",
      "missed node 60_34 division completely\n",
      "missed node 76_7 division completely\n",
      "corrected division 10_19 as a frameshift division not an error\n",
      "corrected division 60_34 as a frameshift division not an error\n",
      "corrected division 76_7 as a frameshift division not an error\n",
      "missed node 23_66 division completely\n",
      "missed node 48_6 division completely\n",
      "missed node 49_41 division completely\n",
      "57_10 out degree = 2, daughters mismatch.\n",
      "missed node 60_0 division completely\n",
      "corrected division 23_66 as a frameshift division not an error\n",
      "corrected division 48_6 as a frameshift division not an error\n",
      "corrected division 49_41 as a frameshift division not an error\n",
      "missed node 5_53 division completely\n",
      "missed node 18_16 division completely\n",
      "missed node 22_24 division completely\n",
      "26_43 out degree = 2, daughters mismatch, gt and res degree equal.\n",
      "30_28 out degree = 1, daughters mismatch.\n",
      "missed node 38_31 division completely\n",
      "42_38 out degree = 1, daughters mismatch.\n",
      "missed node 47_32 division completely\n",
      "missed node 68_23 division completely\n",
      "missed node 71_18 division completely\n",
      "missed node 72_54 division completely\n",
      "74_29 out degree = 2, daughters mismatch, gt and res degree equal.\n",
      "missed node 91_51 division completely\n",
      "missed node 101_18 division completely\n",
      "missed node 119_22 division completely\n",
      "missed node 123_38 division completely\n",
      "corrected division 72_54 as a frameshift division not an error\n",
      "corrected division 47_32 as a frameshift division not an error\n",
      "corrected division 71_18 as a frameshift division not an error\n",
      "corrected division 119_22 as a frameshift division not an error\n",
      "corrected division 22_24 as a frameshift division not an error\n",
      "corrected division 91_51 as a frameshift division not an error\n",
      "corrected division 5_53 as a frameshift division not an error\n",
      "corrected division 68_23 as a frameshift division not an error\n",
      "missed node 14_10 division completely\n",
      "missed node 37_35 division completely\n",
      "missed node 41_26 division completely\n",
      "missed node 50_42 division completely\n",
      "missed node 54_28 division completely\n",
      "missed node 73_5 division completely\n",
      "corrected division 50_42 as a frameshift division not an error\n",
      "corrected division 54_28 as a frameshift division not an error\n",
      "corrected division 73_5 as a frameshift division not an error\n",
      "missed node 5_6 division completely\n",
      "16_9 out degree = 2, daughters mismatch, gt and res degree equal.\n",
      "30_37 out degree = 2, daughters mismatch, gt and res degree equal.\n",
      "missed node 104_34 division completely\n",
      "missed node 121_42 division completely\n",
      "missed node 126_61 division completely\n",
      "127_51 out degree = 1, daughters mismatch.\n",
      "missed node 144_28 division completely\n",
      "missed node 163_66 division completely\n",
      "corrected division 163_66 as a frameshift division not an error\n",
      "missed node 26_25 division completely\n"
     ]
    }
   ],
   "source": [
    "benchmarks = []\n",
    "\n",
    "for results_dir, s in zip([gt_seg_dir, pred_seg_dir], ['GT', 'Deepcell']):\n",
    "    for data_id in data_ids:\n",
    "        results = {\n",
    "            'model': f'Deepcell - {s}',\n",
    "            'data_id': os.path.splitext(data_id)[0]\n",
    "        }\n",
    "        gt_dir = os.path.join(results_dir, f'{data_id}_GT/TRA')\n",
    "        res_dir = os.path.join(results_dir, f'{data_id}_RES')\n",
    "        \n",
    "        # Deepcell benchmarking\n",
    "        m = TrackingMetrics.from_isbi_dirs(gt_dir, res_dir, threshold=node_match_threshold)\n",
    "        results.update(m.stats)\n",
    "        \n",
    "        # CTC metrics\n",
    "        for metric, path in [('DET', 'DETMeasure'), ('SEG', 'SEGMeasure'), ('TRA', 'TRAMeasure')]:\n",
    "            p = subprocess.run([os.path.join(ctc_software, operating_system, path), results_dir, data_id, num_digits],\n",
    "                               stdout=subprocess.PIPE)\n",
    "            outstring = p.stdout\n",
    "            \n",
    "            try:\n",
    "                val = float(outstring.decode('utf-8').split()[-1])\n",
    "                results[metric] = val\n",
    "            except:\n",
    "                print('Benchmarking failure', path, results_dir, data_id)\n",
    "                print(outstring.decode('utf-8'))\n",
    "        \n",
    "        benchmarks.append(results)\n",
    "\n",
    "df = pd.DataFrame(benchmarks)\n",
    "df.to_csv('benchmarks.csv')"
   ]
  },
  {
   "cell_type": "code",
   "execution_count": null,
   "id": "36d4b495-6d80-49a4-a1ce-45bc081e4c80",
   "metadata": {},
   "outputs": [],
   "source": []
  }
 ],
 "metadata": {
  "kernelspec": {
   "display_name": "Python [conda env:jupyter] *",
   "language": "python",
   "name": "conda-env-jupyter-py"
  },
  "language_info": {
   "codemirror_mode": {
    "name": "ipython",
    "version": 3
   },
   "file_extension": ".py",
   "mimetype": "text/x-python",
   "name": "python",
   "nbconvert_exporter": "python",
   "pygments_lexer": "ipython3",
   "version": "3.8.15"
  }
 },
 "nbformat": 4,
 "nbformat_minor": 5
}
