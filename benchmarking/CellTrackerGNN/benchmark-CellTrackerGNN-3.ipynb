{
 "cells": [
  {
   "cell_type": "markdown",
   "id": "0a3a771b-1820-49b2-83da-184eb41c160f",
   "metadata": {},
   "source": [
    "<div class=\"alert alert-block alert-info\"> <b>NOTE</b> Please select the kernel <code>Python [conda env:gnn-pytorch]</code> for this notebook. </div>"
   ]
  },
  {
   "cell_type": "markdown",
   "id": "d6b62371-08c1-4df2-9895-1c815da31646",
   "metadata": {},
   "source": [
    "# 3. Inference - Tracking"
   ]
  },
  {
   "cell_type": "code",
   "execution_count": 1,
   "id": "ce8d0687-88f1-41f4-a0c0-d2bebdffbcff",
   "metadata": {},
   "outputs": [],
   "source": [
    "import os\n",
    "import subprocess\n",
    "import sys\n",
    "import re"
   ]
  },
  {
   "cell_type": "code",
   "execution_count": 3,
   "id": "5f2c57ed-e42d-4dd7-b0da-4d0fe00fbec1",
   "metadata": {},
   "outputs": [
    {
     "name": "stderr",
     "output_type": "stream",
     "text": [
      "/opt/conda/envs/cell-tracking-challenge/lib/python3.8/site-packages/tqdm/auto.py:22: TqdmWarning: IProgress not found. Please update jupyter and ipywidgets. See https://ipywidgets.readthedocs.io/en/stable/user_install.html\n",
      "  from .autonotebook import tqdm as notebook_tqdm\n"
     ]
    }
   ],
   "source": [
    "software_dir = 'software'\n",
    "sys.path.append(software_dir)\n",
    "\n",
    "from inference_clean import predict\n",
    "\n",
    "inference_dir = 'cell-tracker-gnn/src/inference'\n",
    "data_dir = 'data'\n",
    "\n",
    "models = [\n",
    "    'Fluo-N2DL-HeLa',\n",
    "    'Fluo-N2DH-SIM+'\n",
    "]\n",
    "\n",
    "pattern = re.compile('\\d{3}')\n",
    "data_ids = [f for f in os.listdir(os.path.join(data_dir, models[0])) if pattern.fullmatch(f)]"
   ]
  },
  {
   "cell_type": "code",
   "execution_count": null,
   "id": "cb06a08e-4adc-4343-8607-996c9813bdd7",
   "metadata": {},
   "outputs": [],
   "source": [
    "modality = '2D'\n",
    "min_size = '10'\n",
    "\n",
    "model_metric_learning_dir = os.path.join(software_dir, 'parameters/Features_Models')\n",
    "modesl_pytorch_lightning = {\n",
    "    'Fluo-N2DL-HeLa': os.path.join(software_dir, 'parameters/Tracking_Models/Fluo-N2DL-HeLa/checkpoints/epoch=312.ckpt'),\n",
    "    'Fluo-N2DH-SIM+': os.path.join(software_dir, 'parameters/Tracking_Models/Fluo-N2DH-SIM+/checkpoints/epoch=132.ckpt')\n",
    "}"
   ]
  },
  {
   "cell_type": "code",
   "execution_count": null,
   "id": "dfabb402-3036-4239-ad9e-23c23a8609ec",
   "metadata": {},
   "outputs": [],
   "source": [
    "process_output = []\n",
    "for m in models:\n",
    "    print('------', m, '------')\n",
    "    for i in data_ids:\n",
    "        print(i)\n",
    "        p = subprocess.run(\n",
    "            ['python', os.path.join(software_dir, 'preprocess_seq2graph_clean.py'),\n",
    "             '-cs', min_size,\n",
    "             '-ii', os.path.join(data_dir, m, i),\n",
    "             '-iseg', os.path.join(data_dir, m, f'{i}_SEG_RES'),\n",
    "             '-im', os.path.join(model_metric_learning_dir, m, 'all_params.pth'),\n",
    "             '-oc', os.path.join(data_dir, m, f'{i}_CSV')\n",
    "            ],\n",
    "            stdout=subprocess.PIPE,\n",
    "            stderr=subprocess.PIPE)\n",
    "        process_output.append(p)\n",
    "\n",
    "        p = subprocess.run(\n",
    "            ['python', os.path.join(software_dir, 'inference_clean.py'),\n",
    "             '-mp', models_pytorch_lightning[m],\n",
    "             '-ns', i,\n",
    "             '-oc', os.path.join(data_dir, m)\n",
    "            ],\n",
    "            stdout=subprocess.PIPE,\n",
    "            stderr=subprocess.PIPE)\n",
    "        process_output.append(p)\n",
    "\n",
    "        p = subprocess.run(\n",
    "            ['python', os.path.join(inference_dir, 'postprocess_clean.py'),\n",
    "             '-modality', modality,\n",
    "             '-iseg', os.path.join(data_dir, m, f'{i}_SEG_RES'),\n",
    "             '-oi', os.path.join(data_dir, m, f'{i}_RES_inference')\n",
    "            ],\n",
    "            stdout=subprocess.PIPE,\n",
    "            stderr=subprocess.PIPE)\n",
    "        process_output.append(p)"
   ]
  }
 ],
 "metadata": {
  "kernelspec": {
   "display_name": "Python [conda env:gnn-pytorch]",
   "language": "python",
   "name": "conda-env-gnn-pytorch-py"
  },
  "language_info": {
   "codemirror_mode": {
    "name": "ipython",
    "version": 3
   },
   "file_extension": ".py",
   "mimetype": "text/x-python",
   "name": "python",
   "nbconvert_exporter": "python",
   "pygments_lexer": "ipython3",
   "version": "3.8.13"
  }
 },
 "nbformat": 4,
 "nbformat_minor": 5
}
