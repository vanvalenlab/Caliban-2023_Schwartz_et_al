{
 "cells": [
  {
   "cell_type": "markdown",
   "id": "6d84513d-c3b3-4875-a392-32a5fd411436",
   "metadata": {},
   "source": [
    "# 1. Data Preparation\n",
    "Resave data as a set of tiff files in order to match conventions expected by TracX."
   ]
  },
  {
   "cell_type": "code",
   "execution_count": 1,
   "id": "a70e2cce-87d6-4e86-a75d-e5904183137d",
   "metadata": {},
   "outputs": [],
   "source": [
    "import os\n",
    "\n",
    "import numpy as np\n",
    "from tifffile import imwrite\n",
    "\n",
    "from deepcell_tracking.trk_io import load_trks"
   ]
  },
  {
   "cell_type": "code",
   "execution_count": 13,
   "id": "c77b1d71-9943-4a15-9ee5-01244099a68e",
   "metadata": {},
   "outputs": [],
   "source": [
    "source_data = '../../data/test.trks'\n",
    "data_dir = 'data'\n",
    "raw_dir = os.path.join(data_dir, 'raw')\n",
    "seg_dir = os.path.join(data_dir, 'seg')\n",
    "\n",
    "for d in [raw_dir, seg_dir]:\n",
    "    if not os.path.exists(d):\n",
    "        os.makedirs(d)"
   ]
  },
  {
   "cell_type": "markdown",
   "id": "7fe9f9a6-68d0-494a-bc3c-9e8db6d23a5a",
   "metadata": {},
   "source": [
    "Load the test split of the tracking data"
   ]
  },
  {
   "cell_type": "code",
   "execution_count": 3,
   "id": "14855f5b-50a4-43a2-b1de-f99158bb2d4f",
   "metadata": {},
   "outputs": [],
   "source": [
    "data = load_trks(source_data)"
   ]
  },
  {
   "cell_type": "code",
   "execution_count": 5,
   "id": "ba9835f2-4d9a-4338-b6ce-c0c2daa80d0f",
   "metadata": {},
   "outputs": [],
   "source": [
    "def find_zero_padding(X):\n",
    "    \"\"\"Remove zero padding to avoid adverse effects on model performance\"\"\"\n",
    "    # Calculate position of padding based on first frame\n",
    "    # Assume that padding is in blocks on the edges of image\n",
    "    good_rows = np.where(X[0].any(axis=0))[0]\n",
    "    good_cols = np.where(X[0].any(axis=1))[0]\n",
    "\n",
    "    slc = (\n",
    "        slice(None),\n",
    "        slice(good_cols[0], good_cols[-1] + 1),\n",
    "        slice(good_rows[0], good_rows[-1] + 1),\n",
    "        slice(None)\n",
    "    )\n",
    "\n",
    "    return slc"
   ]
  },
  {
   "cell_type": "code",
   "execution_count": 8,
   "id": "98269e99-6dd4-45f8-b6ae-2dd27dd608f3",
   "metadata": {},
   "outputs": [],
   "source": [
    "# ChannelName_positionXXYYZZZ_timeTTTT.tif\n",
    "name_template = '{}_position{:02}{:02}000_time{:05}.tif'"
   ]
  },
  {
   "cell_type": "code",
   "execution_count": 16,
   "id": "0f6090ef-9099-4851-8a27-7017ba9adf0c",
   "metadata": {},
   "outputs": [],
   "source": [
    "for batch_no in range(len(data['lineages'])):\n",
    "    # Build subdirectories for data\n",
    "    raw_subdir = os.path.join(raw_dir, '{:03}'.format(batch_no + 1))\n",
    "    seg_subdir = os.path.join(seg_dir, '{:03}'.format(batch_no + 1))\n",
    "    \n",
    "    # Create directories if needed\n",
    "    for d in (raw_subdir, seg_subdir):\n",
    "        if not os.path.exists(d):\n",
    "            os.makedirs(d)\n",
    "    \n",
    "    # Pull out relevant data for this batch\n",
    "    X = data['X'][batch_no]\n",
    "    y = data['y'][batch_no]\n",
    "    lineages = data['lineages'][batch_no]\n",
    "    \n",
    "    # Determine position of zero padding for removal\n",
    "    slc = find_zero_padding(X)\n",
    "    X = X[slc]\n",
    "    y = y[slc]\n",
    "    \n",
    "    # Determine which frames are zero padding\n",
    "    frames = np.sum(y, axis=(1,2)) # True if image not blank\n",
    "    good_frames = np.where(frames)[0]\n",
    "    # We assume here that the empty frames are at the end of the movie (padding rather than skipped)\n",
    "    movie_len = len(good_frames)\n",
    "    \n",
    "    # Position info for naming convention\n",
    "    x_pos = batch_no + 1\n",
    "    y_pos = 1\n",
    "    \n",
    "    # Save each frame of the movie as an individual tif\n",
    "    channel = 0 # These images should only have one channel\n",
    "    for i in range(movie_len):\n",
    "        name_raw = os.path.join(raw_subdir, name_template.format('nuclear', x_pos, y_pos, i))\n",
    "        name_mask = os.path.join(seg_subdir, name_template.format('mask', x_pos, y_pos, i))\n",
    "        \n",
    "        imwrite(name_raw, X[i, ..., channel])\n",
    "        imwrite(name_mask, y[i, ..., channel].astype('uint16'))"
   ]
  },
  {
   "cell_type": "markdown",
   "id": "bcd5cd52-e80c-4e98-99b6-cac343933044",
   "metadata": {},
   "source": [
    "# 2. Tracking\n",
    "1. Open Matlab > 2020 and open the TracX folder\n",
    "2. From the Matlab terminal, run the following \n",
    "```\n",
    "addpath(genpath('tracx'));\n",
    "Tracker = TracX.Tracker();\n",
    "TracX.GUI.TracXGUI();\n",
    "```\n",
    "3. "
   ]
  }
 ],
 "metadata": {
  "kernelspec": {
   "display_name": "Python [conda env:deepcell-tracking]",
   "language": "python",
   "name": "conda-env-deepcell-tracking-py"
  },
  "language_info": {
   "codemirror_mode": {
    "name": "ipython",
    "version": 3
   },
   "file_extension": ".py",
   "mimetype": "text/x-python",
   "name": "python",
   "nbconvert_exporter": "python",
   "pygments_lexer": "ipython3",
   "version": "3.9.13"
  }
 },
 "nbformat": 4,
 "nbformat_minor": 5
}
