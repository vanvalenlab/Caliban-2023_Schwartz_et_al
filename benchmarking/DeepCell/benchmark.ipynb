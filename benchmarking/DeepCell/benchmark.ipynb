{
 "cells": [
  {
   "cell_type": "markdown",
   "metadata": {},
   "source": [
    "# 1. Inference"
   ]
  },
  {
   "cell_type": "code",
   "execution_count": 9,
   "metadata": {},
   "outputs": [],
   "source": [
    "import os\n",
    "\n",
    "import numpy as np\n",
    "import tensorflow as tf\n",
    "\n",
    "from deepcell.applications import NuclearSegmentation, CellTracking\n",
    "from deepcell_tracking.trk_io import load_trks, save_trk"
   ]
  },
  {
   "cell_type": "code",
   "execution_count": 11,
   "metadata": {},
   "outputs": [],
   "source": [
    "source_data = '/publication-tracking/data/test.trks'\n",
    "\n",
    "data_dir = '/publication-tracking/benchmarking/DeepCell/data'\n",
    "gt_seg_dir = os.path.join(data_dir, 'SEG_GT')\n",
    "pred_seg_dir = os.path.join(data_dir, 'SEG_PRED')\n",
    "gt_dir = os.path.join(data_dir, 'GT')\n",
    "\n",
    "for d in [data_dir, gt_seg_dir, pred_seg_dir, gt_dir]:\n",
    "    if not os.path.exists(d):\n",
    "        os.makedirs(d)\n",
    "        \n",
    "model_urls = {\n",
    "    'NuclearSegmentation': 'https://deepcell-data.s3-us-west-1.amazonaws.com/saved-models/NuclearSegmentation-7.tar.gz',\n",
    "    'NuclearTrackingNE': 'https://deepcell-data.s3-us-west-1.amazonaws.com/saved-models/NuclearTrackingNE-7.tar.gz',\n",
    "    'NuclearTrackingInf': 'https://deepcell-data.s3-us-west-1.amazonaws.com/saved-models/NuclearTrackingInf-7.tar.gz'\n",
    "}"
   ]
  },
  {
   "cell_type": "code",
   "execution_count": 7,
   "metadata": {},
   "outputs": [],
   "source": [
    "# Load test data\n",
    "data = load_trks(source_data)"
   ]
  },
  {
   "cell_type": "code",
   "execution_count": 12,
   "metadata": {},
   "outputs": [
    {
     "name": "stdout",
     "output_type": "stream",
     "text": [
      "WARNING:tensorflow:No training configuration found in save file, so the model was *not* compiled. Compile it manually.\n",
      "Downloading data from https://deepcell-data.s3-us-west-1.amazonaws.com/saved-models/NuclearTrackingNE-7.tar.gz\n",
      "786432/781585 [==============================] - 0s 0us/step\n",
      "794624/781585 [==============================] - 0s 0us/step\n",
      "WARNING:tensorflow:No training configuration found in save file, so the model was *not* compiled. Compile it manually.\n",
      "Downloading data from https://deepcell-data.s3-us-west-1.amazonaws.com/saved-models/NuclearTrackingInf-7.tar.gz\n",
      "540672/539028 [==============================] - 0s 0us/step\n",
      "548864/539028 [==============================] - 0s 0us/step\n",
      "WARNING:tensorflow:No training configuration found in save file, so the model was *not* compiled. Compile it manually.\n"
     ]
    }
   ],
   "source": [
    "# Download and load each model\n",
    "models = {}\n",
    "for m, url in model_urls.items():\n",
    "    archive_path = tf.keras.utils.get_file(f'{m}.tgz', url, extract=True, cache_subdir='models')\n",
    "    model_path = os.path.splitext(archive_path)[0]\n",
    "    model = tf.keras.models.load_model(model_path)\n",
    "    models[m] = model"
   ]
  },
  {
   "cell_type": "code",
   "execution_count": 13,
   "metadata": {
    "tags": []
   },
   "outputs": [],
   "source": [
    "# Load segmentation and tracking applications\n",
    "app_seg = NuclearSegmentation(models['NuclearSegmentation'])\n",
    "app_trk = CellTracking(models['NuclearTrackingInf'], models['NuclearTrackingNE'])"
   ]
  },
  {
   "cell_type": "code",
   "execution_count": 14,
   "metadata": {},
   "outputs": [],
   "source": [
    "def find_zero_padding(X):\n",
    "    \"\"\"Remove zero padding to avoid adverse effects on model performance\"\"\"\n",
    "    # Calculate position of padding based on first frame\n",
    "    # Assume that padding is in blocks on the edges of image\n",
    "    good_rows = np.where(X[0].any(axis=0))[0]\n",
    "    good_cols = np.where(X[0].any(axis=1))[0]\n",
    "\n",
    "    slc = (\n",
    "        slice(None),\n",
    "        slice(good_cols[0], good_cols[-1] + 1),\n",
    "        slice(good_rows[0], good_rows[-1] + 1),\n",
    "        slice(None)\n",
    "    )\n",
    "\n",
    "    return slc"
   ]
  },
  {
   "cell_type": "code",
   "execution_count": 20,
   "metadata": {},
   "outputs": [
    {
     "name": "stderr",
     "output_type": "stream",
     "text": [
      "/usr/local/lib/python3.8/dist-packages/deepcell_toolbox/deep_watershed.py:179: FutureWarning: `selem` is a deprecated argument name for `h_maxima`. It will be removed in version 1.0. Please use `footprint` instead.\n",
      "  markers = h_maxima(image=maxima,\n"
     ]
    }
   ],
   "source": [
    "for batch_no in range(len(data['lineages'])):\n",
    "    # Pull out relevant data for this batch\n",
    "    X = data['X'][batch_no]\n",
    "    y = data['y'][batch_no]\n",
    "    lineages = data['lineages'][batch_no]\n",
    "    name = '{:03}.trk'.format(batch_no)\n",
    "\n",
    "    # Determine position of zero padding for removal\n",
    "    slc = find_zero_padding(X)\n",
    "    X = X[slc]\n",
    "    y = y[slc]\n",
    "\n",
    "    # Determine which frames are zero padding\n",
    "    frames = np.sum(y, axis=(1,2)) # True if image not blank\n",
    "    good_frames = np.where(frames)[0]\n",
    "    X = X[:len(good_frames)]\n",
    "    y = y[:len(good_frames)]\n",
    "\n",
    "    # Save GT data\n",
    "    save_trk(\n",
    "        filename=os.path.join(gt_dir, name),\n",
    "        lineage=lineages, \n",
    "        raw=X,\n",
    "        tracked=y\n",
    "    )\n",
    "\n",
    "    # Generate tracks on GT segmentations\n",
    "    track_gt = app_trk.track(X, y)\n",
    "    save_trk(\n",
    "        filename=os.path.join(gt_seg_dir, name),\n",
    "        lineage=track_gt['tracks'], \n",
    "        raw=track_gt['X'],\n",
    "        tracked=track_gt['y_tracked']\n",
    "    )\n",
    "\n",
    "    # Generate nuclear segmentation predictions\n",
    "    y_pred = app_seg.predict(y)\n",
    "    # Generate tracks on predicted segmentation\n",
    "    track_pred = app_trk.track(X, y_pred)\n",
    "    save_trk(\n",
    "        filename=os.path.join(pred_seg_dir, name),\n",
    "        lineage=track_pred['tracks'], \n",
    "        raw=track_pred['X'],\n",
    "        tracked=track_pred['y_tracked']\n",
    "    )\n"
   ]
  },
  {
   "cell_type": "markdown",
   "metadata": {},
   "source": [
    "# 2. Evaluation"
   ]
  },
  {
   "cell_type": "code",
   "execution_count": 21,
   "metadata": {},
   "outputs": [],
   "source": [
    "import glob\n",
    "import os\n",
    "\n",
    "import numpy as np\n",
    "import pandas as pd\n",
    "\n",
    "from deepcell_tracking.metrics import TrackingMetrics"
   ]
  },
  {
   "cell_type": "code",
   "execution_count": 22,
   "metadata": {},
   "outputs": [],
   "source": [
    "data_dir = '/publication-tracking/benchmarking/DeepCell/data'\n",
    "gt_seg_dir = os.path.join(data_dir, 'SEG_GT')\n",
    "pred_seg_dir = os.path.join(data_dir, 'SEG_PRED')\n",
    "gt_dir = os.path.join(data_dir, 'GT')\n",
    "\n",
    "data_ids = os.listdir(gt_dir)\n",
    "\n",
    "node_match_threshold = 0.6"
   ]
  },
  {
   "cell_type": "code",
   "execution_count": 25,
   "metadata": {},
   "outputs": [
    {
     "name": "stdout",
     "output_type": "stream",
     "text": [
      "missed node 26_25 division completely\n",
      "missed node 57_10 division completely\n",
      "missed node 60_0 division completely\n",
      "missed node 5_6 division completely\n",
      "missed node 121_42 division completely\n",
      "missed node 144_28 division completely\n",
      "missed node 1_29 division completely\n",
      "missed node 29_29 division completely\n",
      "12_31 out degree = 2, daughters mismatch, gt and res degree equal.\n",
      "18_16 out degree = 2, daughters mismatch, gt and res degree equal.\n",
      "missed node 26_25 division completely\n",
      "missed node 23_66 division completely\n",
      "missed node 48_6 division completely\n",
      "missed node 57_10 division completely\n",
      "missed node 60_0 division completely\n",
      "corrected division 23_66 as a frameshift division not an error\n",
      "corrected division 48_6 as a frameshift division not an error\n",
      "corrected division 57_10 as a frameshift division not an error\n",
      "missed node 1_48 division completely\n",
      "8_18 out degree = 2, daughters mismatch, gt and res degree equal.\n",
      "missed node 10_19 division completely\n",
      "15_17 out degree = 1, daughters mismatch.\n",
      "17_6 out degree = 2, daughters mismatch, gt and res degree equal.\n",
      "29_17 out degree = 1, daughters mismatch.\n",
      "missed node 60_34 division completely\n",
      "missed node 76_7 division completely\n",
      "82_17 out degree = 2, daughters mismatch, gt and res degree equal.\n",
      "83_18 out degree = 2, daughters mismatch, gt and res degree equal.\n",
      "corrected division 10_19 as a frameshift division not an error\n",
      "corrected division 60_34 as a frameshift division not an error\n",
      "corrected division 76_7 as a frameshift division not an error\n",
      "missed node 5_6 division completely\n",
      "missed node 10_66 division completely\n",
      "16_9 out degree = 2, daughters mismatch, gt and res degree equal.\n",
      "missed node 25_57 division completely\n",
      "missed node 26_3 division completely\n",
      "51_28 out degree = 2, daughters mismatch, gt and res degree equal.\n",
      "54_2 out degree = 2, daughters mismatch, gt and res degree equal.\n",
      "55_27 out degree = 2, daughters mismatch, gt and res degree equal.\n",
      "missed node 57_49 division completely\n",
      "missed node 62_3 division completely\n",
      "74_47 out degree = 2, daughters mismatch, gt and res degree equal.\n",
      "missed node 76_44 division completely\n",
      "missed node 80_61 division completely\n",
      "missed node 88_27 division completely\n",
      "missed node 93_10 division completely\n",
      "94_36 out degree = 2, daughters mismatch, gt and res degree equal.\n",
      "missed node 103_4 division completely\n",
      "missed node 104_34 division completely\n",
      "missed node 112_6 division completely\n",
      "missed node 121_42 division completely\n",
      "124_21 out degree = 2, daughters mismatch, gt and res degree equal.\n",
      "125_22 out degree = 2, daughters mismatch, gt and res degree equal.\n",
      "missed node 127_51 division completely\n",
      "missed node 128_43 division completely\n",
      "missed node 132_23 division completely\n",
      "missed node 135_25 division completely\n",
      "140_10 out degree = 2, daughters mismatch, gt and res degree equal.\n",
      "148_59 out degree = 2, daughters mismatch, gt and res degree equal.\n",
      "missed node 163_66 division completely\n",
      "missed node 179_68 division completely\n",
      "missed node 185_49 division completely\n",
      "corrected division 80_61 as a frameshift division not an error\n",
      "corrected division 93_10 as a frameshift division not an error\n",
      "corrected division 26_3 as a frameshift division not an error\n",
      "corrected division 25_57 as a frameshift division not an error\n",
      "corrected division 163_66 as a frameshift division not an error\n",
      "corrected division 112_6 as a frameshift division not an error\n",
      "corrected division 127_51 as a frameshift division not an error\n",
      "corrected division 128_43 as a frameshift division not an error\n",
      "corrected division 132_23 as a frameshift division not an error\n",
      "missed node 37_35 division completely\n",
      "missed node 41_26 division completely\n",
      "missed node 43_4 division completely\n",
      "missed node 50_42 division completely\n",
      "missed node 54_28 division completely\n",
      "57_12 out degree = 2, daughters mismatch, gt and res degree equal.\n",
      "missed node 73_5 division completely\n",
      "corrected division 50_42 as a frameshift division not an error\n",
      "corrected division 54_28 as a frameshift division not an error\n",
      "corrected division 73_5 as a frameshift division not an error\n",
      "missed node 1_29 division completely\n",
      "missed node 3_23 division completely\n",
      "missed node 29_29 division completely\n",
      "corrected division 3_23 as a frameshift division not an error\n",
      "missed node 5_53 division completely\n",
      "missed node 9_38 division completely\n",
      "12_31 out degree = 2, daughters mismatch, gt and res degree equal.\n",
      "missed node 18_16 division completely\n",
      "missed node 22_24 division completely\n",
      "23_17 out degree = 2, daughters mismatch, gt and res degree equal.\n",
      "29_32 out degree = 2, daughters mismatch, gt and res degree equal.\n",
      "30_28 out degree = 2, daughters mismatch, gt and res degree equal.\n",
      "35_29 out degree = 2, daughters mismatch, gt and res degree equal.\n",
      "47_32 out degree = 1, daughters mismatch.\n",
      "missed node 68_23 division completely\n",
      "missed node 71_18 division completely\n",
      "missed node 72_54 division completely\n",
      "74_29 out degree = 2, daughters mismatch, gt and res degree equal.\n",
      "76_34 out degree = 2, daughters mismatch, gt and res degree equal.\n",
      "missed node 86_26 division completely\n",
      "89_36 out degree = 2, daughters mismatch, gt and res degree equal.\n",
      "missed node 91_51 division completely\n",
      "95_50 out degree = 2, daughters mismatch, gt and res degree equal.\n",
      "105_27 out degree = 2, daughters mismatch, gt and res degree equal.\n",
      "113_54 out degree = 2, daughters mismatch, gt and res degree equal.\n",
      "missed node 119_22 division completely\n",
      "corrected division 72_54 as a frameshift division not an error\n",
      "corrected division 9_38 as a frameshift division not an error\n",
      "corrected division 71_18 as a frameshift division not an error\n",
      "corrected division 119_22 as a frameshift division not an error\n",
      "corrected division 22_24 as a frameshift division not an error\n",
      "corrected division 91_51 as a frameshift division not an error\n",
      "corrected division 5_53 as a frameshift division not an error\n",
      "corrected division 68_23 as a frameshift division not an error\n",
      "corrected division 18_16 as a frameshift division not an error\n"
     ]
    }
   ],
   "source": [
    "benchmarks = []\n",
    "\n",
    "for results_dir, s in zip([gt_seg_dir, pred_seg_dir], ['GT', 'Deepcell']):\n",
    "    for data_id in data_ids:\n",
    "        m = TrackingMetrics.from_trk_files(\n",
    "            os.path.join(gt_dir, data_id),\n",
    "            os.path.join(results_dir, data_id),\n",
    "            threshold=node_match_threshold\n",
    "        )\n",
    "        benchmarks.append({\n",
    "            'model': f'Deepcell - {s}',\n",
    "            'data_id': os.path.splitext(data_id)[0],\n",
    "            **m.stats\n",
    "        })\n",
    "\n",
    "df = pd.DataFrame(benchmarks)\n",
    "df.to_csv('benchmarks.csv')"
   ]
  },
  {
   "cell_type": "code",
   "execution_count": null,
   "metadata": {},
   "outputs": [],
   "source": []
  }
 ],
 "metadata": {
  "kernelspec": {
   "display_name": "Python 3 (ipykernel)",
   "language": "python",
   "name": "python3"
  },
  "language_info": {
   "codemirror_mode": {
    "name": "ipython",
    "version": 3
   },
   "file_extension": ".py",
   "mimetype": "text/x-python",
   "name": "python",
   "nbconvert_exporter": "python",
   "pygments_lexer": "ipython3",
   "version": "3.8.10"
  }
 },
 "nbformat": 4,
 "nbformat_minor": 4
}
