{
 "cells": [
  {
   "cell_type": "code",
   "execution_count": 16,
   "id": "49ea03f6-c84c-4be4-a4f9-eb48a674cf39",
   "metadata": {},
   "outputs": [],
   "source": [
    "import os\n",
    "\n",
    "import numpy as np\n",
    "from tifffile import imwrite\n",
    "\n",
    "from deepcell_tracking.isbi_utils import trk_to_isbi\n",
    "from deepcell_tracking.trk_io import load_trks"
   ]
  },
  {
   "cell_type": "code",
   "execution_count": null,
   "id": "f046be9b",
   "metadata": {},
   "outputs": [],
   "source": [
    "data_dir = '../data'\n",
    "benchmark_dir = os.path.join(data_dir, 'benchmarking_data')"
   ]
  },
  {
   "cell_type": "markdown",
   "id": "9f7da521-7db3-4c25-8ecf-f4e45ceec799",
   "metadata": {},
   "source": [
    "Load the test split of the tracking data"
   ]
  },
  {
   "cell_type": "code",
   "execution_count": 4,
   "id": "efd83165-efba-4cba-8961-6b0e9a3329df",
   "metadata": {},
   "outputs": [],
   "source": [
    "data = load_trks('../data/test.trks')"
   ]
  },
  {
   "cell_type": "markdown",
   "id": "4d2ab7ad-3309-4655-b1fc-fd270b52fb26",
   "metadata": {},
   "source": [
    "Convert each batch of the test split to the standard ISBI format which is compatible with most of the models that we will tst."
   ]
  },
  {
   "cell_type": "code",
   "execution_count": 17,
   "id": "70d71c85-250b-49b9-8747-5619158a8fd0",
   "metadata": {},
   "outputs": [],
   "source": [
    "for batch_no in range(len(data['lineages'])):\n",
    "    # Build subdirectories for data\n",
    "    raw_dir = os.path.join(benchmark_dir, '{:03}'.format(batch_no + 1))\n",
    "    gt_dir = os.path.join(benchmark_dir, '{:03}_GT'.format(batch_no + 1))\n",
    "    seg_dir = os.path.join(gt_dir, 'SEG')\n",
    "    tra_dir = os.path.join(gt_dir, 'TRA')\n",
    "    \n",
    "    # Create directories if needed\n",
    "    for d in (raw_dir, gt_dir, seg_dir, tra_dir):\n",
    "        if not os.path.exists(d):\n",
    "            os.makedirs(d)\n",
    "                \n",
    "    # Pull out relevant data for this batch\n",
    "    x = data['X'][batch_no]\n",
    "    y = data['y'][batch_no]\n",
    "    lineages = data['lineages'][batch_no]\n",
    "    \n",
    "    # Need to translate lineages and adjust images to match restrictive ISBI format\n",
    "    # Prepare output txt\n",
    "    text_file = os.path.join(tra_dir, 'man_track.txt')\n",
    "    df = trk_to_isbi(lineages)\n",
    "    df.to_csv(text_file, sep=' ')\n",
    "    \n",
    "    # Determine which frames are zero padding\n",
    "    frames = np.sum(y, axis=(1,2)) # True if image not blank\n",
    "    good_frames = np.where(frames)[0]\n",
    "    # We assume here that the empty frames are at the end of the movie (padding rather than skipped)\n",
    "    movie_len = len(good_frames)\n",
    "    \n",
    "    # Save each frame of the movie as an individual tif\n",
    "    channel = 0 # These images should only have one channel\n",
    "    for i in range(movie_len):\n",
    "        name_raw = os.path.join(raw_dir, 't{:03}_.tif'.format(i))\n",
    "        name_tracked_seg = os.path.join(seg_dir, 'man_seg{:03}.tif'.format(i))\n",
    "        name_tracked_tra = os.path.join(tra_dir, 'man_track{:03}.tif'.format(i))\n",
    "        \n",
    "        imwrite(name_raw, X[batch_no, i, ..., channel])\n",
    "        imwrite(name_tracked_seg, y[batch_no, i, ..., channel].astype('uint16'))\n",
    "        imwrite(name_tracked_tra, y[batch_no, i, ..., channel].astype('uint16'))"
   ]
  },
  {
   "cell_type": "code",
   "execution_count": null,
   "id": "c3fa399b-38d3-48ff-a59e-b40b948d2118",
   "metadata": {},
   "outputs": [],
   "source": []
  }
 ],
 "metadata": {
  "kernelspec": {
   "display_name": "Python [conda env:deepcell-tracking]",
   "language": "python",
   "name": "conda-env-deepcell-tracking-py"
  },
  "language_info": {
   "codemirror_mode": {
    "name": "ipython",
    "version": 3
   },
   "file_extension": ".py",
   "mimetype": "text/x-python",
   "name": "python",
   "nbconvert_exporter": "python",
   "pygments_lexer": "ipython3",
   "version": "3.8.13"
  }
 },
 "nbformat": 4,
 "nbformat_minor": 5
}
