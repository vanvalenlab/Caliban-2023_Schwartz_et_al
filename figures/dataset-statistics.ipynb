{
 "cells": [
  {
   "cell_type": "markdown",
   "id": "dcd9aa18-5bb6-433d-8760-4523fe6799f8",
   "metadata": {},
   "source": [
    "# ISBI CTC 2D Datasets"
   ]
  },
  {
   "cell_type": "markdown",
   "id": "cffb7760-67c5-4221-82ae-0a11af3f0f3d",
   "metadata": {},
   "source": [
    "Download and unzip data from the following urls int the `data/ctc` folder"
   ]
  },
  {
   "cell_type": "code",
   "execution_count": 11,
   "id": "9dc33e12-6677-419a-8663-da9ad14ed889",
   "metadata": {},
   "outputs": [],
   "source": [
    "import glob\n",
    "import os\n",
    "\n",
    "import numpy as np\n",
    "import pandas as pd"
   ]
  },
  {
   "cell_type": "code",
   "execution_count": 5,
   "id": "3e906523-b280-4f80-96ef-f35d8caeab66",
   "metadata": {},
   "outputs": [],
   "source": [
    "root_dir = '../data/ctc'"
   ]
  },
  {
   "cell_type": "code",
   "execution_count": 67,
   "id": "7e6cefed-1258-4714-9765-43be5a4c12fa",
   "metadata": {},
   "outputs": [],
   "source": [
    "datasets = [d for d in os.listdir(root_dir) if os.path.isdir(os.path.join(root_dir, d))]"
   ]
  },
  {
   "cell_type": "code",
   "execution_count": 68,
   "id": "1fc41338-5fd4-401f-9a3f-66f31c649de5",
   "metadata": {},
   "outputs": [
    {
     "data": {
      "text/plain": [
       "['BF-C2DL-HSC',\n",
       " 'Fluo-C2DL-MSC',\n",
       " 'Fluo-N2DH-GOWT1',\n",
       " 'BF-C2DL-MuSC',\n",
       " 'PhC-C2DH-U373',\n",
       " 'PhC-C2DL-PSC',\n",
       " 'Fluo-N2DL-HeLa',\n",
       " 'Fluo-N2DH-SIM+',\n",
       " 'DIC-C2DH-HeLa',\n",
       " 'Fluo-C2DL-Huh7']"
      ]
     },
     "execution_count": 68,
     "metadata": {},
     "output_type": "execute_result"
    }
   ],
   "source": [
    "datasets"
   ]
  },
  {
   "cell_type": "code",
   "execution_count": 69,
   "id": "d3ba44e6-cedd-4d7e-af65-4b67c3b64532",
   "metadata": {},
   "outputs": [],
   "source": [
    "rows = []\n",
    "for d in datasets:\n",
    "    modality, meta, cell = d.split('-')\n",
    "    annotation = meta[0]\n",
    "    \n",
    "    for mov in glob.glob(f'{root_dir}/{d}/*_GT'):\n",
    "        track = pd.read_csv(f'{mov}/TRA/man_track.txt', names=['L', 'B', 'E', 'P'], sep=' ')\n",
    "        \n",
    "        track_count = len(track)\n",
    "        \n",
    "        # Extract rows with parent cells aka division\n",
    "        divisions = track[track['P']!=0]\n",
    "        # Count number of unique parents\n",
    "        div_count = len(np.unique(divisions['P']))\n",
    "        \n",
    "        rows.append({\n",
    "            'modality': modality,\n",
    "            'annotation': annotation,\n",
    "            'celltype': cell,\n",
    "            'divisions': div_count,\n",
    "            'tracks': track_count\n",
    "        })\n",
    "        \n",
    "df = pd.DataFrame(rows)"
   ]
  },
  {
   "cell_type": "code",
   "execution_count": 70,
   "id": "e2ecf46d-bc97-4ec8-a3ac-f445bf24e773",
   "metadata": {},
   "outputs": [
    {
     "name": "stderr",
     "output_type": "stream",
     "text": [
      "/var/folders/bd/bn434f8n1bsdd8y0yby_fv7r0000gn/T/ipykernel_33953/1745371177.py:1: FutureWarning: The default value of numeric_only in DataFrameGroupBy.sum is deprecated. In a future version, numeric_only will default to False. Either specify numeric_only or select only columns which should be valid for the function.\n",
      "  df.groupby(['modality', 'annotation']).sum()\n"
     ]
    },
    {
     "data": {
      "text/html": [
       "<div>\n",
       "<style scoped>\n",
       "    .dataframe tbody tr th:only-of-type {\n",
       "        vertical-align: middle;\n",
       "    }\n",
       "\n",
       "    .dataframe tbody tr th {\n",
       "        vertical-align: top;\n",
       "    }\n",
       "\n",
       "    .dataframe thead th {\n",
       "        text-align: right;\n",
       "    }\n",
       "</style>\n",
       "<table border=\"1\" class=\"dataframe\">\n",
       "  <thead>\n",
       "    <tr style=\"text-align: right;\">\n",
       "      <th></th>\n",
       "      <th></th>\n",
       "      <th>divisions</th>\n",
       "      <th>tracks</th>\n",
       "    </tr>\n",
       "    <tr>\n",
       "      <th>modality</th>\n",
       "      <th>annotation</th>\n",
       "      <th></th>\n",
       "      <th></th>\n",
       "    </tr>\n",
       "  </thead>\n",
       "  <tbody>\n",
       "    <tr>\n",
       "      <th>BF</th>\n",
       "      <th>C</th>\n",
       "      <td>242</td>\n",
       "      <td>459</td>\n",
       "    </tr>\n",
       "    <tr>\n",
       "      <th>DIC</th>\n",
       "      <th>C</th>\n",
       "      <td>18</td>\n",
       "      <td>70</td>\n",
       "    </tr>\n",
       "    <tr>\n",
       "      <th rowspan=\"2\" valign=\"top\">Fluo</th>\n",
       "      <th>C</th>\n",
       "      <td>10</td>\n",
       "      <td>128</td>\n",
       "    </tr>\n",
       "    <tr>\n",
       "      <th>N</th>\n",
       "      <td>395</td>\n",
       "      <td>1227</td>\n",
       "    </tr>\n",
       "    <tr>\n",
       "      <th>PhC</th>\n",
       "      <th>C</th>\n",
       "      <td>1019</td>\n",
       "      <td>2415</td>\n",
       "    </tr>\n",
       "  </tbody>\n",
       "</table>\n",
       "</div>"
      ],
      "text/plain": [
       "                     divisions  tracks\n",
       "modality annotation                   \n",
       "BF       C                 242     459\n",
       "DIC      C                  18      70\n",
       "Fluo     C                  10     128\n",
       "         N                 395    1227\n",
       "PhC      C                1019    2415"
      ]
     },
     "execution_count": 70,
     "metadata": {},
     "output_type": "execute_result"
    }
   ],
   "source": [
    "df.groupby(['modality', 'annotation']).sum()"
   ]
  },
  {
   "cell_type": "code",
   "execution_count": 71,
   "id": "de5d4f58-931e-4af6-a9d6-775eb1bf9fb3",
   "metadata": {},
   "outputs": [
    {
     "data": {
      "text/plain": [
       "modality  annotation\n",
       "BF        C             2\n",
       "DIC       C             1\n",
       "Fluo      C             2\n",
       "          N             3\n",
       "PhC       C             2\n",
       "Name: celltype, dtype: int64"
      ]
     },
     "execution_count": 71,
     "metadata": {},
     "output_type": "execute_result"
    }
   ],
   "source": [
    "df.groupby(['modality', 'annotation'])['celltype'].nunique()"
   ]
  },
  {
   "cell_type": "code",
   "execution_count": null,
   "id": "e5ae703c-3b6b-4d15-8e6e-0dd4ca862a85",
   "metadata": {},
   "outputs": [],
   "source": []
  }
 ],
 "metadata": {
  "kernelspec": {
   "display_name": "Python [conda env:tracking-figures]",
   "language": "python",
   "name": "conda-env-tracking-figures-py"
  },
  "language_info": {
   "codemirror_mode": {
    "name": "ipython",
    "version": 3
   },
   "file_extension": ".py",
   "mimetype": "text/x-python",
   "name": "python",
   "nbconvert_exporter": "python",
   "pygments_lexer": "ipython3",
   "version": "3.8.13"
  }
 },
 "nbformat": 4,
 "nbformat_minor": 5
}
