{
 "cells": [
  {
   "cell_type": "code",
   "execution_count": 1,
   "id": "62383650-8e9e-43ce-89e2-53c1f56daf81",
   "metadata": {},
   "outputs": [],
   "source": [
    "import os\n",
    "\n",
    "from matplotlib import cm\n",
    "from matplotlib.colors import Normalize\n",
    "import matplotlib.pyplot as plt\n",
    "import pandas as pd\n",
    "import seaborn as sns\n",
    "\n",
    "from deepcell_tracking.metrics import calculate_summary_stats"
   ]
  },
  {
   "cell_type": "code",
   "execution_count": 2,
   "id": "b3c13637-b7b3-44a5-b899-064fc0fce1b5",
   "metadata": {},
   "outputs": [],
   "source": [
    "baxter_path = '../benchmarking/Baxter/benchmarks.csv'\n",
    "embedtrack_path = '../benchmarking/EmbedTrack/benchmarks.csv'\n",
    "# deepcell_path = ''"
   ]
  },
  {
   "cell_type": "code",
   "execution_count": 3,
   "id": "3dd7594d-b733-4394-ac84-585905d25df0",
   "metadata": {},
   "outputs": [],
   "source": [
    "# EmbedTrack data\n",
    "et_df = pd.read_csv(embedtrack_path, index_col=0)\n",
    "et_df['model'] = 'EmbedTrack ' + et_df['model']\n",
    "# Rollup data for each model version\n",
    "et_df = et_df.groupby('model').sum().drop(columns=['data_id']).reset_index()"
   ]
  },
  {
   "cell_type": "code",
   "execution_count": 4,
   "id": "0228e380-676a-48e5-bfa5-905b86dcfd8f",
   "metadata": {},
   "outputs": [],
   "source": [
    "# Baxter data\n",
    "b_df = pd.read_csv(baxter_path, index_col=0)\n",
    "b_df = b_df.groupby('model').sum().drop(columns=['data_id']).reset_index()"
   ]
  },
  {
   "cell_type": "code",
   "execution_count": 5,
   "id": "5c62aeed-45d1-4131-942e-16a7040ea01d",
   "metadata": {},
   "outputs": [],
   "source": [
    "# Deepcell data\n",
    "dc = [{\n",
    "    'model': 'DeepCell GT Seg',\n",
    "    'gt-seg': True,\n",
    "    'correct_division': 163,\n",
    "    'mismatch_division': 7,\n",
    "    'false_positive_division': 4,\n",
    "    'false_negative_division': 8,\n",
    "    'total_divisions': 178,\n",
    "    'aa_tp': 47557,\n",
    "    'aa_total': 48562,\n",
    "    'te_tp': 48947,\n",
    "    'te_total': 49775,\n",
    "},\n",
    "{\n",
    "    'model': 'DeepCell',\n",
    "    'gt-seg': False,\n",
    "    'correct_division': 148,\n",
    "    'mismatch_division': 17,\n",
    "    'false_positive_division': 22,\n",
    "    'false_negative_division': 13,\n",
    "    'total_divisions': 178,\n",
    "    'aa_tp': 46792,\n",
    "    'aa_total': 48562,\n",
    "    'te_tp': 48337,\n",
    "    'te_total': 49775,\n",
    "}]\n",
    "dc_df = pd.DataFrame(dc)"
   ]
  },
  {
   "cell_type": "markdown",
   "id": "e8bca0ca-9787-48f4-a4e8-b5e9eb8fef1e",
   "metadata": {},
   "source": [
    "# Plots"
   ]
  },
  {
   "cell_type": "code",
   "execution_count": 6,
   "id": "6789fbb7-7849-4774-bd9c-a37f234f376d",
   "metadata": {},
   "outputs": [],
   "source": [
    "df = pd.concat([et_df, b_df, dc_df]).reset_index(drop=True)"
   ]
  },
  {
   "cell_type": "code",
   "execution_count": 7,
   "id": "22f4f914-0809-4d4a-939d-b79a47f650bf",
   "metadata": {},
   "outputs": [
    {
     "data": {
      "text/html": [
       "<div>\n",
       "<style scoped>\n",
       "    .dataframe tbody tr th:only-of-type {\n",
       "        vertical-align: middle;\n",
       "    }\n",
       "\n",
       "    .dataframe tbody tr th {\n",
       "        vertical-align: top;\n",
       "    }\n",
       "\n",
       "    .dataframe thead th {\n",
       "        text-align: right;\n",
       "    }\n",
       "</style>\n",
       "<table border=\"1\" class=\"dataframe\">\n",
       "  <thead>\n",
       "    <tr style=\"text-align: right;\">\n",
       "      <th></th>\n",
       "      <th>model</th>\n",
       "      <th>correct_division</th>\n",
       "      <th>mismatch_division</th>\n",
       "      <th>false_positive_division</th>\n",
       "      <th>false_negative_division</th>\n",
       "      <th>total_divisions</th>\n",
       "      <th>aa_tp</th>\n",
       "      <th>aa_total</th>\n",
       "      <th>te_tp</th>\n",
       "      <th>te_total</th>\n",
       "      <th>gt-seg</th>\n",
       "    </tr>\n",
       "  </thead>\n",
       "  <tbody>\n",
       "    <tr>\n",
       "      <th>0</th>\n",
       "      <td>EmbedTrack Fluo-N2DH-GOWT1</td>\n",
       "      <td>0</td>\n",
       "      <td>0</td>\n",
       "      <td>49</td>\n",
       "      <td>178</td>\n",
       "      <td>178</td>\n",
       "      <td>6189</td>\n",
       "      <td>49272</td>\n",
       "      <td>6616</td>\n",
       "      <td>50485</td>\n",
       "      <td>NaN</td>\n",
       "    </tr>\n",
       "    <tr>\n",
       "      <th>1</th>\n",
       "      <td>EmbedTrack Fluo-N2DH-SIM+</td>\n",
       "      <td>1</td>\n",
       "      <td>7</td>\n",
       "      <td>2247</td>\n",
       "      <td>170</td>\n",
       "      <td>178</td>\n",
       "      <td>23985</td>\n",
       "      <td>49272</td>\n",
       "      <td>25129</td>\n",
       "      <td>50485</td>\n",
       "      <td>NaN</td>\n",
       "    </tr>\n",
       "    <tr>\n",
       "      <th>2</th>\n",
       "      <td>EmbedTrack Fluo-N2DL-HeLa</td>\n",
       "      <td>113</td>\n",
       "      <td>9</td>\n",
       "      <td>455</td>\n",
       "      <td>56</td>\n",
       "      <td>178</td>\n",
       "      <td>43382</td>\n",
       "      <td>49272</td>\n",
       "      <td>44558</td>\n",
       "      <td>50485</td>\n",
       "      <td>NaN</td>\n",
       "    </tr>\n",
       "    <tr>\n",
       "      <th>3</th>\n",
       "      <td>Baxter - Deepcell</td>\n",
       "      <td>75</td>\n",
       "      <td>6</td>\n",
       "      <td>62</td>\n",
       "      <td>97</td>\n",
       "      <td>178</td>\n",
       "      <td>47943</td>\n",
       "      <td>49272</td>\n",
       "      <td>49122</td>\n",
       "      <td>50485</td>\n",
       "      <td>NaN</td>\n",
       "    </tr>\n",
       "    <tr>\n",
       "      <th>4</th>\n",
       "      <td>Baxter - GT</td>\n",
       "      <td>111</td>\n",
       "      <td>7</td>\n",
       "      <td>22</td>\n",
       "      <td>60</td>\n",
       "      <td>178</td>\n",
       "      <td>48319</td>\n",
       "      <td>49272</td>\n",
       "      <td>49509</td>\n",
       "      <td>50485</td>\n",
       "      <td>NaN</td>\n",
       "    </tr>\n",
       "    <tr>\n",
       "      <th>5</th>\n",
       "      <td>DeepCell GT Seg</td>\n",
       "      <td>163</td>\n",
       "      <td>7</td>\n",
       "      <td>4</td>\n",
       "      <td>8</td>\n",
       "      <td>178</td>\n",
       "      <td>47557</td>\n",
       "      <td>48562</td>\n",
       "      <td>48947</td>\n",
       "      <td>49775</td>\n",
       "      <td>True</td>\n",
       "    </tr>\n",
       "    <tr>\n",
       "      <th>6</th>\n",
       "      <td>DeepCell</td>\n",
       "      <td>148</td>\n",
       "      <td>17</td>\n",
       "      <td>22</td>\n",
       "      <td>13</td>\n",
       "      <td>178</td>\n",
       "      <td>46792</td>\n",
       "      <td>48562</td>\n",
       "      <td>48337</td>\n",
       "      <td>49775</td>\n",
       "      <td>False</td>\n",
       "    </tr>\n",
       "  </tbody>\n",
       "</table>\n",
       "</div>"
      ],
      "text/plain": [
       "                        model  correct_division  mismatch_division  \\\n",
       "0  EmbedTrack Fluo-N2DH-GOWT1                 0                  0   \n",
       "1   EmbedTrack Fluo-N2DH-SIM+                 1                  7   \n",
       "2   EmbedTrack Fluo-N2DL-HeLa               113                  9   \n",
       "3           Baxter - Deepcell                75                  6   \n",
       "4                 Baxter - GT               111                  7   \n",
       "5             DeepCell GT Seg               163                  7   \n",
       "6                    DeepCell               148                 17   \n",
       "\n",
       "   false_positive_division  false_negative_division  total_divisions  aa_tp  \\\n",
       "0                       49                      178              178   6189   \n",
       "1                     2247                      170              178  23985   \n",
       "2                      455                       56              178  43382   \n",
       "3                       62                       97              178  47943   \n",
       "4                       22                       60              178  48319   \n",
       "5                        4                        8              178  47557   \n",
       "6                       22                       13              178  46792   \n",
       "\n",
       "   aa_total  te_tp  te_total gt-seg  \n",
       "0     49272   6616     50485    NaN  \n",
       "1     49272  25129     50485    NaN  \n",
       "2     49272  44558     50485    NaN  \n",
       "3     49272  49122     50485    NaN  \n",
       "4     49272  49509     50485    NaN  \n",
       "5     48562  48947     49775   True  \n",
       "6     48562  48337     49775  False  "
      ]
     },
     "execution_count": 7,
     "metadata": {},
     "output_type": "execute_result"
    }
   ],
   "source": [
    "df"
   ]
  },
  {
   "cell_type": "code",
   "execution_count": 8,
   "id": "4d9342cd-8df2-4174-a922-425a0b4166d9",
   "metadata": {},
   "outputs": [],
   "source": [
    "def calculate_stats(row):\n",
    "    cols = ['correct_division', 'false_positive_division', 'false_negative_division', 'total_divisions',\n",
    "            'aa_tp', 'aa_total', 'te_tp', 'te_total']\n",
    "    d = row[cols].to_dict()\n",
    "    return pd.Series(calculate_summary_stats(**d))"
   ]
  },
  {
   "cell_type": "code",
   "execution_count": 9,
   "id": "1ab4d484-0555-4771-9105-9d7fe0df3564",
   "metadata": {},
   "outputs": [],
   "source": [
    "df = df.join(df.apply(calculate_stats, axis=1))"
   ]
  },
  {
   "cell_type": "code",
   "execution_count": 10,
   "id": "19d937e7-f416-48b2-9899-e08217dd8e71",
   "metadata": {},
   "outputs": [],
   "source": [
    "stats_columns = ['Division Precision', 'Division F1', 'Mitotic branching correctness', 'Association Accuracy',\n",
    "       'Target Effectiveness']\n",
    "stats = df[['model']+stats_columns].melt(\n",
    "    id_vars='model',\n",
    "    value_vars=stats_columns,\n",
    "    var_name='metric'\n",
    "    )\n",
    "div_columns = ['correct_division', 'mismatch_division', 'false_positive_division', 'false_negative_division']\n",
    "divisions = df[['model']+div_columns].melt(\n",
    "    id_vars='model',\n",
    "    value_vars=div_columns,\n",
    "    var_name='metric'\n",
    "    )"
   ]
  },
  {
   "cell_type": "code",
   "execution_count": 11,
   "id": "da57bf8e-75a4-43f5-af54-4e4a3b3dfd83",
   "metadata": {},
   "outputs": [],
   "source": [
    "# Norm for tab20 colormap\n",
    "norm = Normalize(vmin=0, vmax=19)\n",
    "\n",
    "# GT segs are even numbers\n",
    "colors = {\n",
    "    'Baxter - GT': cm.tab20(norm(0)),\n",
    "    'Baxter - Deepcell': cm.tab20(norm(1)),\n",
    "    'DeepCell GT Seg': cm.tab20(norm(2)),\n",
    "    'DeepCell': cm.tab20(norm(3)),\n",
    "    'EmbedTrack Fluo-N2DH-GOWT1': cm.tab20(norm(5)),\n",
    "    'EmbedTrack Fluo-N2DH-SIM+': cm.tab20(norm(7)),\n",
    "    'EmbedTrack Fluo-N2DL-HeLa': cm.tab20(norm(9))\n",
    "}"
   ]
  },
  {
   "cell_type": "code",
   "execution_count": 12,
   "id": "aa746189-f326-4391-bb10-964f1c139812",
   "metadata": {
    "tags": []
   },
   "outputs": [
    {
     "data": {
      "text/plain": [
       "<matplotlib.legend.Legend at 0x7fd4bcee1ac0>"
      ]
     },
     "execution_count": 12,
     "metadata": {},
     "output_type": "execute_result"
    },
    {
     "data": {
      "image/png": "[encoded data removed]",
      "text/plain": [
       "<Figure size 640x480 with 1 Axes>"
      ]
     },
     "metadata": {},
     "output_type": "display_data"
    }
   ],
   "source": [
    "sns.barplot(\n",
    "    data=stats,\n",
    "    x='metric',\n",
    "    y='value',\n",
    "    hue='model',\n",
    "    palette=colors\n",
    ")\n",
    "plt.xticks(rotation=45)\n",
    "plt.legend(bbox_to_anchor=(1.04, 1), loc=\"upper left\")"
   ]
  },
  {
   "cell_type": "code",
   "execution_count": null,
   "id": "cff2324c-fa87-4928-bc3f-86dee332678a",
   "metadata": {},
   "outputs": [],
   "source": []
  }
 ],
 "metadata": {
  "kernelspec": {
   "display_name": "Python 3 (ipykernel)",
   "language": "python",
   "name": "python3"
  },
  "language_info": {
   "codemirror_mode": {
    "name": "ipython",
    "version": 3
   },
   "file_extension": ".py",
   "mimetype": "text/x-python",
   "name": "python",
   "nbconvert_exporter": "python",
   "pygments_lexer": "ipython3",
   "version": "3.8.10"
  }
 },
 "nbformat": 4,
 "nbformat_minor": 5
}
